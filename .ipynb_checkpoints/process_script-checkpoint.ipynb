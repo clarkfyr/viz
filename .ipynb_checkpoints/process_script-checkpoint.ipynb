{
 "cells": [
  {
   "cell_type": "code",
   "execution_count": 8,
   "metadata": {},
   "outputs": [],
   "source": [
    "import pycountry_convert as pc\n",
    "import pandas as pd"
   ]
  },
  {
   "cell_type": "markdown",
   "metadata": {},
   "source": [
    "## format the country name so that it can be called by country_name_to_country_alpha2"
   ]
  },
  {
   "cell_type": "code",
   "execution_count": 9,
   "metadata": {},
   "outputs": [],
   "source": [
    "# ref: https://stackoverflow.com/questions/55910004/get-continent-name-from-country-using-pycountry\n",
    "\n",
    "all_countries = set(pd.read_csv(\"./data.csv\").country)\n",
    "name_map = dict()\n",
    "for country in all_countries:\n",
    "    name_map[country] = country\n",
    "name_map[\"Saint Vincent and Grenadines\"] = \"Saint Vincent and the Grenadines\"\n",
    "name_map[\"Republic of Korea\"] = \"South Korea\""
   ]
  },
  {
   "cell_type": "markdown",
   "metadata": {},
   "source": [
    "## create mapping for continent code to full name"
   ]
  },
  {
   "cell_type": "code",
   "execution_count": 10,
   "metadata": {},
   "outputs": [],
   "source": [
    "continent_map = dict()\n",
    "continent_map[\"AF\"] = \"Africa\"\n",
    "continent_map[\"NA\"] = \"North America\"\n",
    "continent_map[\"OC\"] = \"Oceania\"\n",
    "continent_map[\"AN\"] = \"Antarctica\"\n",
    "continent_map[\"AS\"] = \"Asia\"\n",
    "continent_map[\"EU\"] = \"Europe\"\n",
    "continent_map[\"SA\"] = \"South America\""
   ]
  },
  {
   "cell_type": "markdown",
   "metadata": {},
   "source": [
    "## create mapping for country name to continent"
   ]
  },
  {
   "cell_type": "code",
   "execution_count": 11,
   "metadata": {
    "scrolled": false
   },
   "outputs": [],
   "source": [
    "country_name_continent_map = dict()\n",
    "for country in all_countries:\n",
    "    country_code = pc.country_name_to_country_alpha2(name_map[country], cn_name_format=\"default\")\n",
    "    continent_code = pc.country_alpha2_to_continent_code(country_code)\n",
    "    country_name_continent_map[country] = continent_map[continent_code]"
   ]
  },
  {
   "cell_type": "markdown",
   "metadata": {},
   "source": [
    "## read csv and add new column Continent"
   ]
  },
  {
   "cell_type": "code",
   "execution_count": 20,
   "metadata": {},
   "outputs": [],
   "source": [
    "df = pd.read_csv(\"./data.csv\")\n",
    "continent_to_add = [] \n",
    "for i in df.country:\n",
    "    continent_to_add.append(country_name_continent_map[i])\n",
    "df[\"Continent\"] = continent_to_add\n",
    "# drop generation since we already have age group\n",
    "df = df.drop(\"generation\", 1)\n",
    "\n",
    "df.to_csv(\"./data_modified.csv\", index=False)"
   ]
  },
  {
   "cell_type": "markdown",
   "metadata": {},
   "source": []
  },
  {
   "cell_type": "markdown",
   "metadata": {},
   "source": [
    "## JS LOGIC PART IN PYTHON"
   ]
  },
  {
   "cell_type": "code",
   "execution_count": 13,
   "metadata": {},
   "outputs": [],
   "source": [
    "whole_data = pd.read_csv(\"./data_modified.csv\")"
   ]
  },
  {
   "cell_type": "code",
   "execution_count": 19,
   "metadata": {},
   "outputs": [
    {
     "data": {
      "text/plain": [
       "['country',\n",
       " 'year',\n",
       " 'sex',\n",
       " 'age',\n",
       " 'suicides_no',\n",
       " 'population',\n",
       " 'suicides/100k pop',\n",
       " 'country-year',\n",
       " 'HDI for year',\n",
       " 'gdp_for_year ($) ',\n",
       " 'gdp_per_capita ($)',\n",
       " 'Continent']"
      ]
     },
     "execution_count": 19,
     "metadata": {},
     "output_type": "execute_result"
    }
   ],
   "source": [
    "a = list(whole_data)"
   ]
  },
  {
   "cell_type": "code",
   "execution_count": 16,
   "metadata": {},
   "outputs": [
    {
     "data": {
      "text/plain": [
       "6.711409395973154e-05"
      ]
     },
     "execution_count": 16,
     "metadata": {},
     "output_type": "execute_result"
    }
   ],
   "source": [
    "21/312900"
   ]
  },
  {
   "cell_type": "code",
   "execution_count": null,
   "metadata": {},
   "outputs": [],
   "source": []
  }
 ],
 "metadata": {
  "kernelspec": {
   "display_name": "Python 3",
   "language": "python",
   "name": "python3"
  },
  "language_info": {
   "codemirror_mode": {
    "name": "ipython",
    "version": 3
   },
   "file_extension": ".py",
   "mimetype": "text/x-python",
   "name": "python",
   "nbconvert_exporter": "python",
   "pygments_lexer": "ipython3",
   "version": "3.8.3"
  }
 },
 "nbformat": 4,
 "nbformat_minor": 4
}
